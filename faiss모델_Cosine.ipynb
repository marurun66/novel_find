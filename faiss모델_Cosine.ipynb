{
 "cells": [
  {
   "cell_type": "code",
   "execution_count": 3,
   "metadata": {},
   "outputs": [],
   "source": [
    "import os\n",
    "from dotenv import load_dotenv\n",
    "from huggingface_hub import login\n",
    "# .env 파일 로드 확인\n",
    "load_dotenv('.env', verbose=True)\n",
    "\n",
    "hf_token = os.getenv('HUGGINGFACEHUB_API_TOKEN')\n",
    "\n",
    "login(hf_token)\n"
   ]
  },
  {
   "cell_type": "code",
   "execution_count": 4,
   "metadata": {},
   "outputs": [
    {
     "name": "stderr",
     "output_type": "stream",
     "text": [
      "No sentence-transformers model found with name BM-K/KoSimCSE-roberta. Creating a new one with mean pooling.\n"
     ]
    },
    {
     "name": "stdout",
     "output_type": "stream",
     "text": [
      "✅ 코사인 유사도를 적용한 FAISS 인덱스가 저장되었습니다.\n"
     ]
    }
   ],
   "source": [
    "import faiss\n",
    "\n",
    "from sentence_transformers import SentenceTransformer\n",
    "import json\n",
    "\n",
    "# ✅ 문장 임베딩 모델 로드\n",
    "embedding_model = SentenceTransformer(\"BM-K/KoSimCSE-roberta\")\n",
    "\n",
    "# ✅ 책 데이터 로드\n",
    "with open(\"filtered_novels.json\", \"r\", encoding=\"utf-8\") as f:\n",
    "    books_data = json.load(f)\n",
    "\n",
    "# ✅ 책 요약을 임베딩 변환\n",
    "book_summaries = [book[\"description\"] for book in books_data]\n",
    "book_titles = [book[\"title\"] for book in books_data]\n",
    "\n",
    "# 🔹 임베딩 변환\n",
    "book_embeddings = embedding_model.encode(book_summaries, convert_to_numpy=True)\n",
    "\n",
    "# 🔹 L2 정규화 (코사인 유사도 적용)\n",
    "faiss.normalize_L2(book_embeddings)  # 벡터 정규화\n",
    "\n",
    "# 🔹 FAISS 인덱스 생성 (L2 정규화된 벡터 기반)\n",
    "dimension = book_embeddings.shape[1]  # 벡터 차원 (768)\n",
    "faiss_index = faiss.IndexFlatIP(dimension)  # 🚀 코사인 유사도 적용 (Inner Product)\n",
    "faiss_index.add(book_embeddings)  # 벡터 추가\n",
    "\n",
    "# ✅ FAISS 인덱스 저장\n",
    "faiss.write_index(faiss_index, \"book_faiss_cosine_index.bin\")\n",
    "\n",
    "print(\"✅ 코사인 유사도를 적용한 FAISS 인덱스가 저장되었습니다.\")\n"
   ]
  },
  {
   "cell_type": "code",
   "execution_count": null,
   "metadata": {},
   "outputs": [],
   "source": []
  },
  {
   "cell_type": "code",
   "execution_count": 5,
   "metadata": {},
   "outputs": [
    {
     "name": "stderr",
     "output_type": "stream",
     "text": [
      "No sentence-transformers model found with name BM-K/KoSimCSE-roberta. Creating a new one with mean pooling.\n"
     ]
    },
    {
     "name": "stdout",
     "output_type": "stream",
     "text": [
      "['📖 **밀랍 인형**\\n📌 영국추리작가협회 실버대거상 수상작\\n인형처럼 아름다운 그녀가 정말로 사람을 죽인 독살범일까?제한 시간이 주는 서스펜스 속에서 예리하게 빛나는 본격 추리!\\n\\n상류사회에서 인정받는 유명 사진사의 젊고 아름다운 아내가 남편의 조수를 독살한다. 순조로운 경찰 조사와 그녀의 자백으로 사건은 쉽게 마무리되는 듯했는데……. 사형선고가 내려진 직후, 런던 경찰청에 전달된 한 장의 사진이 모든 살해 정황을 부정하고 만다. 과연 그녀는 인형처럼 아름다운 독살범일까, 혹은 다른 이의 범행을 감춰주고 있는 무고한 여성일까?\\n', '📖 **미스터 쉐도우 (정명섭 장편소설)**\\n📌 딸의 죽음에 절망한 아버지의 복수를 돕는 미스터리한 킬러의 통쾌한 응징극\\n\\n일찍이 아내를 잃은 박기태의 인생은 하나뿐인 딸마저 갑작스럽게 죽었다는 소식에 산산조각 났다. 딸의 자살을 받아들이지 못하고 방황하던 그는 더욱 충격적인 진실과 마주하게 된다. 살인이 자살로 위장되었고, 그 뒤에는 교내 성매매 조직의 잔혹한 범죄가 숨겨져 있었던 것이다. 가해자들은 모두 권력층 자녀들이라 사건은 은폐되었고, 진실은 점점 더 깊은 어둠 속으로 묻혀 갔다.\\n절망과 분노로 무너져 내린 박기태 앞에 어느 날 정체불명의 남자가 나타난다. ‘그림자’라 불리는 이 킬러는 박기태의 딸을 죽음으로 몰아넣은 자들을 응징하고 그 대가로 박기태의 목숨을 가져가기로 한다.\\n그때부터 성매매 조직의 가해자들이 하나둘 의문의 죽음을 맞이하기 시작한다. 익사, 감전사, 도피한 해외에서 갱단에 의한 죽음. 모든 살인은 완벽하게 위장된다. 경찰청장에게서 이 연쇄적인 죽음의 배후를 파헤치라는 임무를 받은 전직 정보 경찰 권성호는 은밀하게 수사를 진행하고, 그들이 어떤 사건과 깊은 연관이 있다는 사실을 발견하게 되는데…….\\n', '📖 **나는 그녀를 모른다 (로지 월쉬 장편소설)**\\n📌 데뷔 소설 『전화하지 않는 남자 사랑에 빠진 여자』가 전 세계 35개 언어로 번역되어 150만 부 이상의 판매고를 올리면서 미스터리 로맨스계의 기대주로 떠오른 로지 월쉬의 두 번째 장편소설. 대도시 런던과 잉글랜드 최북단의 한적한 바닷가를 무대로, 우연히 아내의 비밀을 알게 된 남자와 과거를 은폐하려는 여자의 엇갈린 행보를 그린 미스터리 스릴러다.\\n\\n\\n\\n불임과 암 투병이라는 시련 속에서도 단란한 결혼 생활을 꾸려온 레오와 엠마. 신문사 부고기자인 레오는 해양생태학자이자 유명 방송인인 엠마의 부고 기사를 자신이 직접 써두기로 결심한다. 그는 아내의 과거를 조사하면서 설명하기 힘든 몇 가지 수상한 단서를 발견한다. 아내의 학력은 물론 성과 이름조차 거짓이었다. 게다가 그녀 주위를 스토커처럼 맴도는 이상한 남자들에, 그녀가 정체불명의 남자와 주고받은 의미심장한 메시지들까지… 심지어 딸 루비가 친딸이 맞는지조차 의심스러운 상황에서, 돌연 엠마가 모든 걸 남겨둔 채 사라져버린다. 엠마는 도대체 누구이고 그녀가 필사적으로 숨겨온 진실은 무엇인가?\\n', '📖 **소실점 (김희재 장편소설)**\\n📌 완벽했던 그녀의 죽음, 그녀의 가면 속 진실이 드러난다. 대한민국을 대표하는 아나운서 최선우가 교외 외딴 집에서 알몸의 변사체로 발견된다. 당대 최고의 아나운서가 강간 살해된 사건으로 인해 대한민국은 발칵 뒤집히고, 강력부의 유능한 검사 강주희가 사건의 수사를 담당하게 된다. 하지만 용의자로 검거된 미술교사 서인하는 피해자 최선우와 자신이 섹스파트너였다고 주장한다. 최선우가 세상에 알려진 고상한 이미지와 달리 SM 취향의 섹스를 즐기는 변태적 성향의 여자였다는 것이다. \\n\\n서인하는 사건 당일 점차 과도해지는 그녀의 요구 때문에 다툰 뒤 자신은 먼저 집에서 나왔으며, 그 뒤에 최선우가 스스로 2층에서 떨어져 죽은 것이라며 결백을 주장한다. 도저히 믿을 수 없는 충격적인 이야기였으나 타살이라는 명백한 증거는 없는 상황 속에서 서인하의 일관된 진술과 이를 입증하는 증거들은 수사를 더욱 혼란스럽게 한다. 그러던 중, 우연히 발견된 하나의 증거는 사건을 새로운 국면으로 전환시키는데…. 강간이냐 화간이냐, 살인이냐 자살이냐, 조작이냐 증거냐. 꼬리를 물고 벌어지는 상황의 반전을 통해 드러나는 치명적인 진실!\\n', '📖 **레디 슛 (Ready- Shoot!)**\\n📌 매몰차게 버림받은 재벌가 첩의 복수극\\n거기서 돈 냄새를 맡은 전직 배우의 동시 스탠바이\\n\\n자칭 비운의 배우인 혜수는 교도소에 복역하는 것을 삼재 탓으로 돌린다. 어중간한 똑똑함, 재빠른 눈치로 나름 편안한 감옥 생활을 하던 그녀에게도 눈엣가시가 있다. 바로 왕언니다. ‘5세 여아 살해 및 사체 유기 혐의’로 들어온 왕언니는 모범수로 나가기 전에 혜수에게 이렇게 으스댔다.\\n\\n“옛날 인천 바닥에서 홍 마담이라고 들어봤냐?”\\n\\n재벌가의 첩. 그러나 버림받은 뒤로 종적을 감추다가 30년 만에 복수를 위해 나타났다는 여자. 그리고 왕언니는 그녀에게 사주를 받아 재벌의 손녀를 대신 죽였을 뿐이라고 말했다.\\n\\n“그 집안의 유산을 혼자 차지하려고?”\\n“맞아. 더 대박은 뭔지 알아? 두구 두구 두구 두구… 그 홍 마담이 근래에 치매에 걸렸댄다. 흐흐흐.”\\n\\n\\n막대한 유산은 누구에게로\\n레디 슛!\\n\\n그런데 얼마 후. 나머지 수고비를 받기 위해 출소한다던 왕언니가 돌연 싸늘한 시신으로 발견되고 말았다. 애도의 마음보다 탐욕이 먼저 고개를 들었다. 훌륭한 배우는 남이 놓친 기회를 놓치지 않는 법. 치매 노인을 구워삶아 돈을 가로채는 것쯤은 승산 있는 게임이다. 연기, 그중에서도 사기극이야말로 이쪽의 전공이니까. 이 계획에 혜수는 알고 지내던 동생인 옥녀도 끌어들였다. 준비는 끝났다. 이제는 Ready- Shoot을 외치기만 하면 된다.\\n\\n“명심해. 우린 완벽한 세트장에서 완벽한 연기를 해야 해.” \\n- 본문 중에서\\n', '📖 **오키테가미 쿄코의 뒤표지 (카니발 플러스)**\\n📌 “범인은 틀림없이 저네요.” 사건 현장은 어느 저택의 밀실. 시신 옆에서 피투성이 흉기를 움켜쥔 채 잠든 모습으로 발견된 사람은 놀랍게도 망각 탐정, 오키테가미 쿄코였다. 그러나 체포된 그녀는 이미 사건의 기억을 잃은 뒤였는데…? 수사에 임하는 사람은 ‘누명 제조기’라는 별명이 붙은 험악한 경부 히다루이. 망각 탐정 전문가로서 달려온 야쿠스케는 쿄코 씨의 무고함을 증명할 수 있을까? 역전의 추리극, 개막!\\n', '📖 **선택의 날 (정해연 장편소설)**\\n📌 종현의 아내 현아가 실종 됐다. 어느 날 고구남이라는 남자가 현아에게 2억 원을 사기당했다며 종현 집에 눌러앉는다. 두 남자는 현아의 행적을 좇지만 그녀의 신상은 전부 거짓이었다. 한편, 뉴스에서는 6세 아이 유괴 용의자로 현아가 지목된다. 그녀는 왜 갑자기 다른 사람이 되었을까. 페이지 터너 정해연이 삶의 작은 선택들에 대해 이야기하는 코믹 스릴러!\\n', '📖 **살인과 창조의 시간**\\n📌 로렌스 블록의 추리 스릴러 소설 『살인과 창조의 시간』. 제이크 ‘스피너’ 자블런은 경찰의 끄나풀 역할을 하다가 자신이 갖고 있는 정보로 추한 비밀이 있는 사람들을 공갈하여 재산을 갈취한다. 그러나 그런 행위는 결국 악의를 부르는 법. 예전 지인인 전직 경찰 매튜 스커더를 찾아간 자블런은 만약의 사태에 자신의 부탁을 들어 달라고 요청한다. 그리고 얼마 후, 그는 강에서 시체로 발견되는데...\\n', '📖 **6년(Six Years)**\\n📌 6년 전 사라진 그녀를 찾는 순간, 모든 삶은 거짓이 된다!\\n\\n세계 3대 미스터리 문학상을 석권한 스릴러의 거장 할런 코벤의 『6년(Six Years)』. 스릴러 문학의 정수를 보여줬던 저자가 이번에는 멈출 수 없는 사랑 이야기를 가미한 미스터리 스릴러를 선보인다. 지나간 사랑에 감춰진 비밀과 거짓을 파헤치며 자신의 인생 전체를 위험에 빠뜨리는 한 남자의 이야기로 휴 잭맨 주연, 파라마운트 영화사 제작으로 영화화될 예정이다. \\n\\n6년 전 다른 남자와 결혼해 떠나버린 옛사랑을 잊지 못하던 제이크는 어느 날 그녀의 남편의 부고를 보고 장례식장을 찾는다. 그러나 미망인의 자리에는 다른 여자가 앉아 있다. 6년 전 그녀의 결혼식 주례를 본 목사는 물론, 당시 알고 지냈던 모든 사람들이 그녀의 존재 자체를 부인한다. 제이크는 6년 전 흔적 없이 사라진 옛사랑의 흔적을 찾기 시작하지만 조직폭력배, FBI, 경찰, 주민 모두가 그의 목숨을 위협한다. 그러던 가운데 얽혀있는 과거가 하나로 만나는 순간 모든 연결을 이어줄 핵심 인물이 시체로 발견되면서 또 다른 진실이 고개를 드는데…….\\n', '📖 **황제의 코담베 케이스(세계추리걸작선 9)**\\n📌 불가능 범죄의 대표작. 프랑스 북부의 휴양도시 라 방들레트에서 남편과 이혼한 이브는 건너편 저택에 사는 청년과 사랑에 빠져 약혼한다. 그러나 전남편 에드가 한밤중에 찾아와 사랑을 호소하고 있는 중에 건너편 저택 창문으로 약혼자의 아버지가 살해된 것을 목격하게 된다. 정숙함을 제일로 삼는 이브는 남자와 함께 방에 있었다는 것이 알려질까 봐 그러한 사실을 알리지 못한다. 그런 중에 사건이 엉뚱하게 전개되어 이브가 용의자로 몰리게 되는데...\\n']\n"
     ]
    }
   ],
   "source": [
    "import faiss\n",
    "import json\n",
    "from sentence_transformers import SentenceTransformer\n",
    "\n",
    "# ✅ FAISS 인덱스 로드\n",
    "faiss_index = faiss.read_index(\"book_faiss_cosine_index.bin\")\n",
    "\n",
    "# ✅ 책 데이터 로드\n",
    "with open(\"filtered_novels.json\", \"r\", encoding=\"utf-8\") as f:\n",
    "    books_data = json.load(f)\n",
    "\n",
    "book_titles = [book[\"title\"] for book in books_data]\n",
    "book_summaries = [book[\"description\"] for book in books_data]\n",
    "\n",
    "# ✅ 문장 임베딩 모델 로드\n",
    "embedding_model = SentenceTransformer(\"BM-K/KoSimCSE-roberta\")\n",
    "\n",
    "\n",
    "# ✅ FAISS 검색 함수\n",
    "def find_similar_books(user_story, top_k=10):\n",
    "    \"\"\"유저 입력 스토리 → 코사인 유사도 기반 책 검색\"\"\"\n",
    "    # 🔹 유저 입력을 문장 임베딩 변환\n",
    "    user_embedding = embedding_model.encode([user_story], convert_to_numpy=True)\n",
    "    faiss.normalize_L2(user_embedding)  # 벡터 정규화\n",
    "\n",
    "    # 🔹 FAISS 검색\n",
    "    distances, indices = faiss_index.search(user_embedding, top_k)\n",
    "\n",
    "    # 🔹 검색된 책 목록 출력\n",
    "    recommended_books = []\n",
    "    for i in range(top_k):\n",
    "        idx = indices[0][i]\n",
    "        title = book_titles[idx]\n",
    "        summary = book_summaries[idx]\n",
    "        recommended_books.append(f\"📖 **{title}**\\n📌 {summary}\\n\")\n",
    "\n",
    "    return recommended_books\n",
    "# ✅ 테스트 실행\n",
    "user_story = \"전 남편을 살해한 여자의 죄를 덮기 위해 그녀를 사모하던 수학교사가 알리바이를 꾸미는 이야기\"\n",
    "\n",
    "\n",
    "print(find_similar_books(user_story, top_k=10))\n"
   ]
  },
  {
   "cell_type": "markdown",
   "metadata": {},
   "source": []
  },
  {
   "cell_type": "code",
   "execution_count": null,
   "metadata": {},
   "outputs": [],
   "source": []
  }
 ],
 "metadata": {
  "kernelspec": {
   "display_name": "hi",
   "language": "python",
   "name": "python3"
  },
  "language_info": {
   "codemirror_mode": {
    "name": "ipython",
    "version": 3
   },
   "file_extension": ".py",
   "mimetype": "text/x-python",
   "name": "python",
   "nbconvert_exporter": "python",
   "pygments_lexer": "ipython3",
   "version": "3.10.13"
  }
 },
 "nbformat": 4,
 "nbformat_minor": 2
}
