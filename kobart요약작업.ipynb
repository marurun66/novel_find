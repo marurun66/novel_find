{
 "cells": [
  {
   "cell_type": "code",
   "execution_count": 1,
   "metadata": {},
   "outputs": [],
   "source": [
    "import json\n",
    "import torch\n",
    "from transformers import BartForConditionalGeneration, PreTrainedTokenizerFast\n",
    "\n",
    "# ✅ 학습된 KoBART 모델 로드\n",
    "model_checkpoint = \"./kobart_best_model\"  # 🔹 Best 모델이 저장된 체크포인트 폴더\n",
    "model = BartForConditionalGeneration.from_pretrained(model_checkpoint)\n",
    "tokenizer = PreTrainedTokenizerFast.from_pretrained(model_checkpoint)"
   ]
  },
  {
   "cell_type": "code",
   "execution_count": 2,
   "metadata": {},
   "outputs": [],
   "source": [
    "# ✅ 모델을 GPU로 이동 (가능하면)\n",
    "device = \"cuda\" if torch.cuda.is_available() else \"cpu\""
   ]
  },
  {
   "cell_type": "code",
   "execution_count": 5,
   "metadata": {},
   "outputs": [],
   "source": [
    "# ✅ 요약 함수 정의 (프롬프트 포함)\n",
    "def generate_summary(description):\n",
    "    if not description.strip():\n",
    "        return \"줄거리 없음\"  # 🔹 설명이 비어 있으면 줄거리 없음 반환\n",
    "    \n",
    "    # ✅ 프롬프트 포함\n",
    "    prompt = f\"다음 문장 중 작가의 연혁과 수상이력은 제외하고 스토리부분만 추출 해주세요. 등장인물의 직업, 스토리 전개, 주요 사건을 포함해주세요. 스토리가 없을 경우 줄거리 없음으로 처리하세요.:\\n\\n{description}\"\n",
    "    # 🔹 입력 텍스트 토큰화\n",
    "    input_ids = tokenizer(prompt, return_tensors=\"pt\", max_length=1024, truncation=True).input_ids.to(device)\n",
    "\n",
    "    # 🔹 모델로 요약 생성\n",
    "    with torch.no_grad():\n",
    "        summary_ids = model.generate(\n",
    "            input_ids, \n",
    "            max_length=300,  # ✅ 요약 길이 조정\n",
    "            min_length=150,  # ✅ 너무 짧은 요약 방지\n",
    "            num_beams=5,  # ✅ 빔 서치 강화\n",
    "            early_stopping=True,  # ✅ 조기 종료 (반복 방지)\n",
    "            temperature=0.7,  # ✅ 단어 선택 다양성 증가\n",
    "            top_k=50,  # ✅ 확률 높은 50개 단어 중 선택\n",
    "            top_p=0.9,  # ✅ 확률 분포의 90%를 포함한 단어 선택\n",
    "            length_penalty=1.5,  # ✅ 긴 문장일수록 더 적절하게 요약하도록 유도\n",
    "            repetition_penalty=1.5  # ✅ 반복적인 단어 생성을 억제\n",
    "        )\n",
    "    \n",
    "    # 🔹 요약문 디코딩\n",
    "    summary_text = tokenizer.decode(summary_ids[0], skip_special_tokens=True)\n",
    "    \n",
    "    return summary_text\n",
    "\n",
    "# ✅ 소설 데이터 로드\n",
    "with open(\"filtered_novels.json\", \"r\", encoding=\"utf-8\") as f:\n",
    "    novels_data = json.load(f)"
   ]
  },
  {
   "cell_type": "code",
   "execution_count": 7,
   "metadata": {},
   "outputs": [
    {
     "name": "stdout",
     "output_type": "stream",
     "text": [
      "✅ 요약 완료! 결과가 'All_books_with_summary.json' 파일에 저장되었습니다.\n"
     ]
    }
   ],
   "source": [
    "# ✅ 모든 소설의 description을 요약\n",
    "for novel in novels_data:\n",
    "    novel[\"summary\"] = generate_summary(novel[\"description\"])\n",
    "\n",
    "# ✅ 새로운 JSON 파일로 저장\n",
    "output_file = \"All_books_with_summary.json\"\n",
    "with open(output_file, \"w\", encoding=\"utf-8\") as f:\n",
    "    json.dump(novels_data, f, ensure_ascii=False, indent=4)\n",
    "\n",
    "print(f\"✅ 요약 완료! 결과가 '{output_file}' 파일에 저장되었습니다.\")"
   ]
  },
  {
   "cell_type": "code",
   "execution_count": null,
   "metadata": {},
   "outputs": [],
   "source": []
  }
 ],
 "metadata": {
  "kernelspec": {
   "display_name": "hi",
   "language": "python",
   "name": "python3"
  },
  "language_info": {
   "codemirror_mode": {
    "name": "ipython",
    "version": 3
   },
   "file_extension": ".py",
   "mimetype": "text/x-python",
   "name": "python",
   "nbconvert_exporter": "python",
   "pygments_lexer": "ipython3",
   "version": "3.10.13"
  }
 },
 "nbformat": 4,
 "nbformat_minor": 2
}
