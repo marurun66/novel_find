{
 "cells": [
  {
   "cell_type": "code",
   "execution_count": 2,
   "metadata": {},
   "outputs": [],
   "source": [
    "import os\n",
    "from dotenv import load_dotenv\n",
    "from huggingface_hub import login\n",
    "# .env 파일 로드 확인\n",
    "load_dotenv('.env', verbose=True)\n",
    "\n",
    "hf_token = os.getenv('HUGGINGFACEHUB_API_TOKEN')\n",
    "\n",
    "login(hf_token)\n"
   ]
  },
  {
   "cell_type": "code",
   "execution_count": 4,
   "metadata": {},
   "outputs": [
    {
     "name": "stderr",
     "output_type": "stream",
     "text": [
      "No sentence-transformers model found with name BM-K/KoSimCSE-roberta. Creating a new one with mean pooling.\n"
     ]
    },
    {
     "name": "stdout",
     "output_type": "stream",
     "text": [
      "✅ 코사인 유사도를 적용한 FAISS 인덱스가 저장되었습니다.\n"
     ]
    }
   ],
   "source": [
    "import faiss\n",
    "\n",
    "from sentence_transformers import SentenceTransformer\n",
    "import json\n",
    "\n",
    "# ✅ 문장 임베딩 모델 로드\n",
    "embedding_model = SentenceTransformer(\"BM-K/KoSimCSE-roberta\")\n",
    "\n",
    "# ✅ 책 데이터 로드\n",
    "with open(\"All_books_with_summary.json\", \"r\", encoding=\"utf-8\") as f:\n",
    "    books_data = json.load(f)\n",
    "\n",
    "# ✅ 책 요약을 임베딩 변환\n",
    "book_summaries = [book[\"description\"] for book in books_data]\n",
    "book_titles = [book[\"title\"] for book in books_data]\n",
    "\n",
    "# 🔹 임베딩 변환\n",
    "book_embeddings = embedding_model.encode(book_summaries, convert_to_numpy=True)\n",
    "\n",
    "# 🔹 L2 정규화 (코사인 유사도 적용)\n",
    "faiss.normalize_L2(book_embeddings)  # 벡터 정규화\n",
    "\n",
    "# 🔹 FAISS 인덱스 생성 (L2 정규화된 벡터 기반)\n",
    "dimension = book_embeddings.shape[1]  # 벡터 차원 (768)\n",
    "faiss_index = faiss.IndexFlatIP(dimension)  # 🚀 코사인 유사도 적용 (Inner Product)\n",
    "faiss_index.add(book_embeddings)  # 벡터 추가\n",
    "\n",
    "# ✅ FAISS 인덱스 저장\n",
    "faiss.write_index(faiss_index, \"book_faiss_cosine_index.bin\")\n",
    "\n",
    "print(\"✅ 코사인 유사도를 적용한 FAISS 인덱스가 저장되었습니다.\")\n"
   ]
  },
  {
   "cell_type": "code",
   "execution_count": 5,
   "metadata": {},
   "outputs": [
    {
     "name": "stdout",
     "output_type": "stream",
     "text": [
      "책 데이터의 개수: 5532\n",
      "FAISS 인덱스에 저장된 벡터의 개수: 5532\n",
      "✅ 책 데이터와 FAISS 인덱스의 개수가 일치합니다.\n"
     ]
    }
   ],
   "source": [
    "# 🔹 FAISS 인덱스에 저장된 벡터 개수 확인\n",
    "indexed_vectors_count = faiss_index.ntotal\n",
    "\n",
    "# ✅ 책 데이터의 개수와 비교\n",
    "book_count = len(book_summaries)\n",
    "\n",
    "# 결과 출력\n",
    "print(f\"책 데이터의 개수: {book_count}\")\n",
    "print(f\"FAISS 인덱스에 저장된 벡터의 개수: {indexed_vectors_count}\")\n",
    "\n",
    "# ✅ 비교 결과 확인\n",
    "if book_count == indexed_vectors_count:\n",
    "    print(\"✅ 책 데이터와 FAISS 인덱스의 개수가 일치합니다.\")\n",
    "else:\n",
    "    print(\"⚠️ 책 데이터와 FAISS 인덱스의 개수가 일치하지 않습니다.\")\n"
   ]
  },
  {
   "cell_type": "code",
   "execution_count": 8,
   "metadata": {},
   "outputs": [
    {
     "name": "stderr",
     "output_type": "stream",
     "text": [
      "No sentence-transformers model found with name BM-K/KoSimCSE-roberta. Creating a new one with mean pooling.\n"
     ]
    },
    {
     "name": "stdout",
     "output_type": "stream",
     "text": [
      "['📖 **해리포터와 마법사의 돌 제1권 1**\\n📌 꼬마 마법사의 신나는 모험을 그린 베스트셀러 소설. 무서운 이모부부와 함께 계단 밑 작은 방에서 비참한 삶을 살던 해리는 부엉이 한 마리가 배달한 초대장에 인생이 바뀌기 시작한다. 새로운 친구와 온갖 마법을 배우며 해리는 어둠의 힘과 결투를 벌이는데....\\n', '📖 **해리포터(Harry Potter): 혼혈 왕자 1**\\n📌 선과 악의 대립 속에서 평범한 어린 소년이 한 사람의 영웅으로 성장해나가는 보편적인 테마를 바탕으로 빈틈없는 소설적 구성과 생생하게 살아 있는 캐릭터, 정교하게 만들어낸 환상의 세계를 접목시킨 21세기의 고전 「해리포터 시리즈」의 제6편『해리포터와 혼혈 왕자』 제1부. 볼드모트의 영향력이 커지는 가운데 마법사 세계와 머글 세계는 경계 상태에 들어가게 된다. 덤블도어와 해리의 설득으로 호그와트 교수로 취임한 슬러그혼은 마법약 과목을 가르치고, 스네이프는 어둠의 마법 방어술을 가르치게 된다. 슬러그혼의 첫 수업에서 해리는 혼혈 왕자라는 별칭을 가진 소년이 쓰던 책을 받게 되고, 그 책의 도움으로 마법의 약 수업에서 두각을 보인다.\\n', '📖 **해리포터(Harry Potter): 죽음의 성물 2**\\n📌 선과 악의 대립 속에서 평범한 어린 소년이 한 사람의 영웅으로 성장해나가는 보편적인 테마를 바탕으로 빈틈없는 소설적 구성과 생생하게 살아 있는 캐릭터, 정교하게 만들어낸 환상의 세계를 접목시킨 21세기의 고전 「해리포터 시리즈」의 제7편『해리포터와 죽음의 성물』 제2부. 열일곱 살이 되기 직전, 더즐리 가에 걸린 보호마법이 걷히기 전에 친구들의 미끼작전으로 은신처로 몸을 피한 해리는 론과 헤르미온느와 함께 덤블도어의 뜻을 이어 호크룩스를 찾기로 결심한다. 덤블도어의 유품을 조사하던 중 죽음을 피하는 강력한 마법 물품인 ‘죽음의 성물’이 실제로 존재하며 그중 하나인 딱총나무 지팡이는 볼드모트가, 나머지 하나인 투명 망토는 자신이 갖고 있다는 것을 알게 된다.\\n', '📖 **해리포터(Harry Potter): 불사조 기사단 2**\\n📌 선과 악의 대립 속에서 평범한 어린 소년이 한 사람의 영웅으로 성장해나가는 보편적인 테마를 바탕으로 빈틈없는 소설적 구성과 생생하게 살아 있는 캐릭터, 정교하게 만들어낸 환상의 세계를 접목시킨 21세기의 고전 「해리포터 시리즈」 제5편 『해리포터와 불사조 기사단』 제2부. 사사건건 해리를 괴롭히는 사촌 두들리와 다투다 디멘터의 습격을 받은 해리는 우여곡절 끝에 친구 론과 헤르미온느가 있는 불사조 기사단의 비밀 본부로 가게 된다. 볼드모트에 대항하는 비밀 단체였지만, 정작 해리는 나이가 어리다는 이유로 기사단에 가입하지 못한다.\\n', '📖 **해리포터(Harry Potter): 비밀의 방**\\n📌 선과 악의 대립 속에서 평범한 어린 소년이 한 사람의 영웅으로 성장해나가는 보편적인 테마를 바탕으로 빈틈없는 소설적 구성과 생생하게 살아 있는 캐릭터, 정교하게 만들어낸 환상의 세계를 접목시킨 21세기의 고전 「해리포터 시리즈」의 제2편『해리포터와 비밀의 방』. 더즐리 이모부네 집에서 끔찍한 방학을 보내던 해리에게 도비라는 집요정이 나타나 학교로 돌아가지 말라고 경고한다. 그 말을 무시하고 호그와트로 돌아간 해리는 머글 출신 아이들을 대상으로 한 의문의 습격 사건에 연루된다.\\n', '📖 **신의 왼손 1 (폴 호프먼 장편소설)**\\n📌 이 아이를 찾아라. \\n그리고 발견하면 훗날을 위해 준비시켜라. \\n‘신의 왼손’, 또는 ‘죽음의 천사’라고도 불리는 이 아이가 \\n그 모든 것을 가능케 하리니.\\n\\n중세 암흑시대를 연상시키는 배경과 흡인력 강한 줄거리로 출간과 동시에 전 세계적인 인기를 얻으며 미국, 이탈리아, 독일을 비롯해 30개 언어로 출간된 화제작 『신의 왼손』 시리즈가 국내에 선보인다. 주드 로 주연의 뱀파이어 영화 〈악어의 지혜〉의 각본과 동명의 소설을 쓰며 이름을 알리기 시작한 영국 작가 폴 호프먼은 2010년에서 2013년에 걸쳐 출간된 이 다크 판타지 3부작을 통해 화제의 작가로 급부상했다. 동시 출간되는 『신의 왼손 1』 『신의 왼손 2─최후의 네 가지』에 이어 『신의 왼손3─천사의 날갯짓』이 연내 출간을 앞두고 있다.\\n\\n『신의 왼손 1』 알 수 없는 시대, 미대륙 어딘가로 추정되는 황무지에 우뚝 선 미로 속의 ‘성소’. 호전적인 전사이자 수도사들의 집단 ‘리디머’가 지배하는 이곳에서는 엄격한 규칙과 종교적 금기하에 열 살 안팎의 소년들이 전사로 양성되고 있다. 신의 뜻을 거스르고 세상에 혼란을 불러오는 ‘안타고니스트’ 무리와 대적하는 것이 그들의 목표. 기억도 나지 않는 어린 시절 이곳으로 끌려온 14세의 토머스 케일은 우연찮은 계기로 탈출로를 알게 되고, 함께 자란 친구 클라이스트와 헨리, 엉겁결에 성소에서 구해주게 된 미지의 소녀 리바와 함께 부유한 상업도시 멤피스로 향한다. 전투에 대한 천부적인 재능을 입증하고 총독의 아름다운 딸 아르벨과 사랑에 빠지며 자유를 누리던 것도 잠시, 이어진 리디머들의 추적과 대립을 통해 케일은 지금껏 스스로도 몰랐던 운명을 깨닫게 되는데…….\\n', \"📖 **다크 타워 2: 세 개의 문(상) (세 개의 문)**\\n📌 스티븐 킹이 33년 동안 쓴 대작『다크 타워』시리즈!\\n\\n스티븐 킹이 33년이라는 긴 시간 동안 집필한 일생의 역작 『다크 타워』시리즈. 젊은 시절 톨킨의 ｝반지의 제왕》에 매료된 스티븐 킹은 이후 영화 《석양의 무법자》에서 영감을 얻어 서부를 무대로 한 대하 판타지 장편소설을 집필하였다. '총잡이' 종족 최후의 생존자 롤랜드가 어둠의 탑을 찾기 위해 시공간을 넘나들며 펼치는 모험을 그리고 있다. \\n\\n로버트 브라우닝의 시 《롤랜드 공자 암흑의 탑에 이르다》를 기반으로 한 이 판타지 시리즈는 핵전쟁 이후의 미래를 배경으로 《반지의 제왕》과 《석양의 무법자》를 결합시킨 창조적인 판타지를 선보인다. 《반지의 제왕》의 '엘프'나 '오크'처럼 '총잡이'라는 종족을 내세우고 있다. 특히 스티븐 킹의 다른 작품들에서도 엿볼 수 있는, 각종 현대 무기로 인해 인류가 멸망한다는 설정이 여기에 처음 등장한다.\\n\\n제2부《세 개의 문》에서 롤랜드는 검은 옷을 입은 남자의 예언대로 세 개의 문을 찾아 떠난다. 그러나 인간을 먹잇감으로 노리는 괴물들에게 습격당해 손가락을 잃고 독에 중독되어 사경을 헤매게 된다. 가까스로 첫 번째 문에 도착한 롤랜드. 문 너머는 1980년대 중반이었다. 그는 마약을 몰래 밀반입하던 청년의 정신으로 들어가게 되는데…. (상권)\\n\", '📖 **몬프크리를 향하여 1: 깨어난 악령 (깨어난 악령)**\\n📌 조용한 마을의 평범한 나무꾼이었던 청년 ‘해로프’가 세상을 어둠으로 덮으려는 악령 ‘블레드’의 세력과 싸워나가면서 성장해 가는 모험 이야기다. 이야기 속 생생하게 살아 있는 캐릭터, 강렬한 사건들의 연속, 예측할 수 없는 환상 속의 세계로 빠질 수 있다.\\n\\n평범한 나무꾼 ‘해로프’의 실수로 오래전 봉인되었던 검은 악령이 다시 깨어나게 된다. 세상 밖으로 나오게 된 악령은 온 세상을 어둠으로 지배하기 위해 빠른 속도로 세력을 넓혀간다. ‘해로프’와 동료들은 사악한 ‘블레드’의 포악한 계획을 막기 위해 유일하게 악령을 봉인할 수 있는 장소인 ‘몬프크리’로의 여정을 떠나게 된다. 하지만 이 여정에서 블레드의 세력들이 그들을 방해하게 되는데….\\n', '📖 **나는 살인자를 사냥한다**\\n📌 소년, 아버지와 똑같은 극악한 살인마들을 사냥하다!\\n\\n인기 YA(Young Adult) 소설 작가 배리 리가의 첫 스릴러 『나는 살인자를 사냥한다』. 살인자를 사냥하는 살인자의 아들 ‘재스퍼 덴트’ 3부작의 첫 번째 이야기로, 워너 브라더스 TV 시리즈로 제작될 예정이다. 평화로운 마을 로보스 노드의 평범한 17세 소년 재스퍼 덴트. 하지만 그는 악명 높은 연쇄 살인범을 아버지로 두어 어릴 때부터 잔혹한 살인들을 목격하고, 심지어 아버지에게 살인의 기술과 살인자의 심리까지 전수받은 잠재적 살인자이다. 어둠의 세계에 유혹당하는 자신을 두려워하며 살아가던 재스퍼는 마을에 잔혹한 연쇄 살인이 일어나자 마음의 짐을 덜기 위해 지식과 경험을 총동원하여 살인범을 쫓는데….\\n', '📖 **마법의 숙제 (다니엘 페낙 장편소설)**\\n📌 다니엘 페낙 장편소설 『마법의 숙제』. 죽은 사내가 자기 묘석 위에 걸터앉아 들려주는 기이하고 환상적인 이틀간의 마법 이야기를 들려주는 책이다. 현실을 흩뜨리는 초시간적인 상황을 불러일으키는 발상과, 통통 튀는 플롯 속에 악동들의 발칙한 대화를 재치 있게 재현해내고 있다.\\n']\n"
     ]
    }
   ],
   "source": [
    "import faiss\n",
    "import json\n",
    "from sentence_transformers import SentenceTransformer\n",
    "\n",
    "# ✅ FAISS 인덱스 로드\n",
    "faiss_index = faiss.read_index(\"book_faiss_cosine_index.bin\")\n",
    "\n",
    "# ✅ 책 데이터 로드\n",
    "with open(\"All_books_with_summary.json\", \"r\", encoding=\"utf-8\") as f:\n",
    "    books_data = json.load(f)\n",
    "\n",
    "book_titles = [book[\"title\"] for book in books_data]\n",
    "book_summaries = [book[\"description\"] for book in books_data]\n",
    "\n",
    "# ✅ 문장 임베딩 모델 로드\n",
    "embedding_model = SentenceTransformer(\"BM-K/KoSimCSE-roberta\")\n",
    "\n",
    "\n",
    "# ✅ FAISS 검색 함수\n",
    "def find_similar_books(user_story, top_k=10):\n",
    "    \"\"\"유저 입력 스토리 → 코사인 유사도 기반 책 검색\"\"\"\n",
    "    # 🔹 유저 입력을 문장 임베딩 변환\n",
    "    user_embedding = embedding_model.encode([user_story], convert_to_numpy=True)\n",
    "    faiss.normalize_L2(user_embedding)  # 벡터 정규화\n",
    "\n",
    "    # 🔹 FAISS 검색\n",
    "    distances, indices = faiss_index.search(user_embedding, top_k)\n",
    "\n",
    "    # 🔹 검색된 책 목록 출력\n",
    "    recommended_books = []\n",
    "    for i in range(top_k):\n",
    "        idx = indices[0][i]\n",
    "        title = book_titles[idx]\n",
    "        summary = book_summaries[idx]\n",
    "        recommended_books.append(f\"📖 **{title}**\\n📌 {summary}\\n\")\n",
    "\n",
    "    return recommended_books\n",
    "# ✅ 테스트 실행\n",
    "user_story = \"한 소년이 마법사가 되는 이야기\"\n",
    "\n",
    "\n",
    "print(find_similar_books(user_story, top_k=10))\n"
   ]
  },
  {
   "cell_type": "markdown",
   "metadata": {},
   "source": []
  },
  {
   "cell_type": "code",
   "execution_count": null,
   "metadata": {},
   "outputs": [],
   "source": []
  }
 ],
 "metadata": {
  "kernelspec": {
   "display_name": "hi",
   "language": "python",
   "name": "python3"
  },
  "language_info": {
   "codemirror_mode": {
    "name": "ipython",
    "version": 3
   },
   "file_extension": ".py",
   "mimetype": "text/x-python",
   "name": "python",
   "nbconvert_exporter": "python",
   "pygments_lexer": "ipython3",
   "version": "3.10.13"
  }
 },
 "nbformat": 4,
 "nbformat_minor": 2
}
